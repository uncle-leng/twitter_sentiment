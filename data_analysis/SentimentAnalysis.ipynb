{
 "cells": [
  {
   "cell_type": "code",
   "execution_count": 9,
   "metadata": {
    "collapsed": false
   },
   "outputs": [
    {
     "name": "stdout",
     "output_type": "stream",
     "text": [
      "CPU times: user 1min 8s, sys: 15.4 s, total: 1min 24s\n",
      "Wall time: 7min 34s\n"
     ]
    }
   ],
   "source": [
    "%%time\n",
    "# sentiment analysis----------------\n",
    "from textblob import Blobber\n",
    "from textblob.sentiments import NaiveBayesAnalyzer\n",
    "import string\n",
    "import draft\n",
    "\n",
    "# start from (25/04/2018, 26/04/2018) as day1\n",
    "# end date (01/05/2018, 02/05/2018) as last day\n",
    "\n",
    "time_duration = [('25/04/2018','26/04/2018'),\n",
    "                 ('26/04/2018','27/04/2018'),\n",
    "                 ('27/04/2018','28/04/2018'),\n",
    "                 ('28/04/2018','29/04/2018'), \n",
    "                 ('29/04/2018','30/04/2018'),\n",
    "                 ('30/04/2018','01/05/2018'),\n",
    "                 ('01/05/2018','02/05/2018'),\n",
    "                 ('02/05/2018','03/05/2018')]\n",
    "\n",
    "# test_tweet = draft.get_tweets_from_location_and_date('Sydney', '02/05/2018', '03/05/2018')\n",
    "# print(len(test_tweet))\n",
    "\n",
    "# tweets = draft.get_tweets_from_location_and_date('Melbourne', '01/05/2018', '2/05/2018')\n",
    "# print(len(result))\n",
    "\n",
    "def getTweetsByCity(city_name):\n",
    "    day_count = 1\n",
    "    day_tweets = {}\n",
    "    for i in time_duration:\n",
    "        day_tweets[day_count] = draft.get_tweets_from_location_and_date(city_name, i[0], i[1])\n",
    "        day_count += 1\n",
    "    return day_tweets\n",
    "        \n",
    "sydney_tweets = getTweetsByCity('Sydney')\n",
    "melbourne_tweets = getTweetsByCity('Melbourne')\n",
    "perth_tweets = getTweetsByCity('Perth')\n",
    "brisbane_tweets = getTweetsByCity('Brisbane')\n",
    "canberra_tweets = getTweetsByCity('Canberra')"
   ]
  },
  {
   "cell_type": "code",
   "execution_count": 10,
   "metadata": {
    "collapsed": false
   },
   "outputs": [
    {
     "name": "stdout",
     "output_type": "stream",
     "text": [
      "31206\n"
     ]
    }
   ],
   "source": [
    "# 34601\n",
    "print(len(sydney_tweets[1]))"
   ]
  },
  {
   "cell_type": "code",
   "execution_count": 11,
   "metadata": {
    "collapsed": false
   },
   "outputs": [],
   "source": [
    "import numpy as np\n",
    "import re\n",
    "\n",
    "punctuation = set(string.punctuation)\n",
    "pattern = re.compile('(@)|(#)')\n",
    "\n",
    "tb = Blobber(analyzer=NaiveBayesAnalyzer())\n",
    "\n",
    "# input tweets within one day\n",
    "def getSentimentScore(tweets):\n",
    "    sentiment_score = []\n",
    "    for i in tweets:\n",
    "        # remove @ and # \n",
    "        tweet = re.sub(pattern,' ', i).strip()\n",
    "        # remove http...\n",
    "        tweet = ' '.join([i for i in tweet.split() if not i.startswith('http')])\n",
    "        # remove puncutation\n",
    "        tweet = ''.join([i for i in tweet if i not in punctuation])\n",
    "        # print(tweet)\n",
    "        # print(tb(tweet).sentiment.p_pos)\n",
    "        sentiment_score.append(tb(tweet).sentiment.p_pos)\n",
    "#     print(len(sentiment_score))\n",
    "#     print(np.average(sentiment_score))\n",
    "    return np.average(sentiment_score)\n",
    "\n",
    "def getSentimentScoreByDay(city_tweets):\n",
    "    tweet_score = []\n",
    "    for k, v in city_tweets.items():\n",
    "        score = getSentimentScore(v)\n",
    "        tweet_score.append(score)\n",
    "\n",
    "    return tweet_score\n",
    "\n",
    "\n",
    "sydney_score = getSentimentScoreByDay(sydney_tweets)\n",
    "melbourne_score = getSentimentScoreByDay(melbourne_tweets)\n",
    "perth_score = getSentimentScoreByDay(perth_tweets)\n",
    "brisbane_score = getSentimentScoreByDay(brisbane_tweets)\n",
    "canberra_score = getSentimentScoreByDay(canberra_tweets)"
   ]
  },
  {
   "cell_type": "code",
   "execution_count": 12,
   "metadata": {
    "collapsed": false
   },
   "outputs": [
    {
     "name": "stdout",
     "output_type": "stream",
     "text": [
      "[0.54729882546096797, 0.55562225177829605, 0.55434277818281641, 0.54796133487836152, 0.54782372396880707, 0.554845645460042, 0.55970741887157205, 0.56212108536321337]\n",
      "[0.53967548968418155, 0.55091522227575951, 0.54828670345342534, 0.5425110457282486, 0.53987159459738088, 0.54896827781653401, 0.55302605901445745, 0.5600266744846828]\n",
      "[0.53931504463328428, 0.54831467424061064, 0.54766086543921766, 0.54330956769063343, 0.54043737831310945, 0.54338523684932716, 0.55161234756409527, 0.55370927743023646]\n",
      "[0.54587474889091958, 0.55772550712813906, 0.55741615868896899, 0.55073070481813657, 0.55065922922401134, 0.55746584073224248, 0.56109094172870999, 0.5658422751872052]\n",
      "[0.57644307388673488, 0.58916784348340734, 0.57173502893115213, 0.56799447871326092, 0.56103888427900983, 0.58121564804864345, 0.59623354012220153, 0.59859101670838355]\n"
     ]
    }
   ],
   "source": [
    "print(sydney_score)\n",
    "print(melbourne_score)\n",
    "print(perth_score)\n",
    "print(brisbane_score)\n",
    "print(canberra_score)"
   ]
  },
  {
   "cell_type": "code",
   "execution_count": 13,
   "metadata": {
    "collapsed": false
   },
   "outputs": [
    {
     "data": {
      "image/png": "[encoded data removed]",
      "text/plain": [
       "<matplotlib.figure.Figure at 0x10f55e780>"
      ]
     },
     "metadata": {},
     "output_type": "display_data"
    }
   ],
   "source": [
    "import matplotlib.pyplot as plt\n",
    "\n",
    "data_to_plot = [sydney_score, melbourne_score, perth_score, brisbane_score, canberra_score]\n",
    "\n",
    "# labels\n",
    "labels = ['Sydney', 'Melbourne', 'Perth', 'Brisbane', 'Canberra']\n",
    "\n",
    "# Create a figure instance\n",
    "fig = plt.figure(1, figsize=(12, 9))\n",
    "\n",
    "# Create an axes instance\n",
    "ax = fig.add_subplot(111)\n",
    "\n",
    "# Create the boxplot\n",
    "bp = ax.boxplot(data_to_plot, labels=labels)\n",
    "\n",
    "# Save the figure\n",
    "# fig.savefig('fig1.png', bbox_inches='tight')\n",
    "plt.show()\n"
   ]
  },
  {
   "cell_type": "code",
   "execution_count": null,
   "metadata": {
    "collapsed": true
   },
   "outputs": [],
   "source": []
  }
 ],
 "metadata": {
  "kernelspec": {
   "display_name": "Python 3",
   "language": "python",
   "name": "python3"
  },
  "language_info": {
   "codemirror_mode": {
    "name": "ipython",
    "version": 3
   },
   "file_extension": ".py",
   "mimetype": "text/x-python",
   "name": "python",
   "nbconvert_exporter": "python",
   "pygments_lexer": "ipython3",
   "version": "3.6.0"
  }
 },
 "nbformat": 4,
 "nbformat_minor": 2
}
